{
 "cells": [
  {
   "cell_type": "markdown",
   "metadata": {},
   "source": [
    "Step - 1\n",
    "- How many columns do we have and what kind of data does it contain?"
   ]
  },
  {
   "cell_type": "code",
   "execution_count": 11,
   "metadata": {},
   "outputs": [
    {
     "name": "stdout",
     "output_type": "stream",
     "text": [
      "Unnamed: 0   <class 'numpy.int64'>\n",
      "id   <class 'numpy.int64'>\n",
      "track_name   <class 'str'>\n",
      "size_bytes   <class 'numpy.int64'>\n",
      "currency   <class 'str'>\n",
      "price   <class 'numpy.float64'>\n",
      "rating_count_tot   <class 'numpy.int64'>\n",
      "rating_count_ver   <class 'numpy.int64'>\n",
      "user_rating   <class 'numpy.float64'>\n",
      "user_rating_ver   <class 'numpy.float64'>\n",
      "ver   <class 'str'>\n",
      "cont_rating   <class 'str'>\n",
      "prime_genre   <class 'str'>\n",
      "sup_devices.num   <class 'numpy.int64'>\n",
      "ipadSc_urls.num   <class 'numpy.int64'>\n",
      "lang.num   <class 'numpy.int64'>\n",
      "vpp_lic   <class 'numpy.int64'>\n"
     ]
    }
   ],
   "source": [
    "import pandas as pd\n",
    "apple_df = pd.read_csv('AppleStore.csv')\n",
    "apple_df.columns\n",
    "for i in apple_df.columns:\n",
    "    print(i,\" \",type(apple_df[i][4]))"
   ]
  },
  {
   "cell_type": "code",
   "execution_count": 12,
   "metadata": {},
   "outputs": [
    {
     "data": {
      "text/html": [
       "<div>\n",
       "<style scoped>\n",
       "    .dataframe tbody tr th:only-of-type {\n",
       "        vertical-align: middle;\n",
       "    }\n",
       "\n",
       "    .dataframe tbody tr th {\n",
       "        vertical-align: top;\n",
       "    }\n",
       "\n",
       "    .dataframe thead th {\n",
       "        text-align: right;\n",
       "    }\n",
       "</style>\n",
       "<table border=\"1\" class=\"dataframe\">\n",
       "  <thead>\n",
       "    <tr style=\"text-align: right;\">\n",
       "      <th></th>\n",
       "      <th>Unnamed: 0</th>\n",
       "      <th>id</th>\n",
       "      <th>track_name</th>\n",
       "      <th>size_bytes</th>\n",
       "      <th>currency</th>\n",
       "      <th>price</th>\n",
       "      <th>rating_count_tot</th>\n",
       "      <th>rating_count_ver</th>\n",
       "      <th>user_rating</th>\n",
       "      <th>user_rating_ver</th>\n",
       "      <th>ver</th>\n",
       "      <th>cont_rating</th>\n",
       "      <th>prime_genre</th>\n",
       "      <th>sup_devices.num</th>\n",
       "      <th>ipadSc_urls.num</th>\n",
       "      <th>lang.num</th>\n",
       "      <th>vpp_lic</th>\n",
       "    </tr>\n",
       "  </thead>\n",
       "  <tbody>\n",
       "    <tr>\n",
       "      <th>0</th>\n",
       "      <td>1</td>\n",
       "      <td>281656475</td>\n",
       "      <td>PAC-MAN Premium</td>\n",
       "      <td>100788224</td>\n",
       "      <td>USD</td>\n",
       "      <td>3.99</td>\n",
       "      <td>21292</td>\n",
       "      <td>26</td>\n",
       "      <td>4.0</td>\n",
       "      <td>4.5</td>\n",
       "      <td>6.3.5</td>\n",
       "      <td>4+</td>\n",
       "      <td>Games</td>\n",
       "      <td>38</td>\n",
       "      <td>5</td>\n",
       "      <td>10</td>\n",
       "      <td>1</td>\n",
       "    </tr>\n",
       "    <tr>\n",
       "      <th>1</th>\n",
       "      <td>2</td>\n",
       "      <td>281796108</td>\n",
       "      <td>Evernote - stay organized</td>\n",
       "      <td>158578688</td>\n",
       "      <td>USD</td>\n",
       "      <td>0.00</td>\n",
       "      <td>161065</td>\n",
       "      <td>26</td>\n",
       "      <td>4.0</td>\n",
       "      <td>3.5</td>\n",
       "      <td>8.2.2</td>\n",
       "      <td>4+</td>\n",
       "      <td>Productivity</td>\n",
       "      <td>37</td>\n",
       "      <td>5</td>\n",
       "      <td>23</td>\n",
       "      <td>1</td>\n",
       "    </tr>\n",
       "  </tbody>\n",
       "</table>\n",
       "</div>"
      ],
      "text/plain": [
       "   Unnamed: 0         id                 track_name  size_bytes currency  \\\n",
       "0           1  281656475            PAC-MAN Premium   100788224      USD   \n",
       "1           2  281796108  Evernote - stay organized   158578688      USD   \n",
       "\n",
       "   price  rating_count_tot  rating_count_ver  user_rating  user_rating_ver  \\\n",
       "0   3.99             21292                26          4.0              4.5   \n",
       "1   0.00            161065                26          4.0              3.5   \n",
       "\n",
       "     ver cont_rating   prime_genre  sup_devices.num  ipadSc_urls.num  \\\n",
       "0  6.3.5          4+         Games               38                5   \n",
       "1  8.2.2          4+  Productivity               37                5   \n",
       "\n",
       "   lang.num  vpp_lic  \n",
       "0        10        1  \n",
       "1        23        1  "
      ]
     },
     "execution_count": 12,
     "metadata": {},
     "output_type": "execute_result"
    }
   ],
   "source": [
    "apple_df.head(2)"
   ]
  },
  {
   "cell_type": "code",
   "execution_count": 39,
   "metadata": {},
   "outputs": [
    {
     "data": {
      "text/plain": [
       "['Shopping',\n",
       " 'Weather',\n",
       " 'Navigation',\n",
       " 'Food & Drink',\n",
       " 'Photo & Video',\n",
       " 'Entertainment',\n",
       " 'Health & Fitness',\n",
       " 'Education',\n",
       " 'Lifestyle',\n",
       " 'Medical',\n",
       " 'Utilities',\n",
       " 'Games',\n",
       " 'Finance',\n",
       " 'Music',\n",
       " 'Productivity',\n",
       " 'Travel',\n",
       " 'Book',\n",
       " 'News',\n",
       " 'Catalogs',\n",
       " 'Social Networking',\n",
       " 'Reference',\n",
       " 'Sports',\n",
       " 'Business']"
      ]
     },
     "execution_count": 39,
     "metadata": {},
     "output_type": "execute_result"
    }
   ],
   "source": [
    "genres_list = list(set(apple_df['prime_genre']))\n",
    "genres_list"
   ]
  },
  {
   "cell_type": "code",
   "execution_count": 38,
   "metadata": {},
   "outputs": [
    {
     "name": "stdout",
     "output_type": "stream",
     "text": [
      "Games\n"
     ]
    }
   ],
   "source": [
    "# Check How Many number of apps are there for each genere\n",
    "# df = apple_df[apple_df['prime_genre'] == 'Business']\n",
    "# df.values.size\n",
    "count_list = dict()\n",
    "for i in genres_list:\n",
    "    df = apple_df[apple_df['prime_genre'] == i]\n",
    "    count = 0\n",
    "    count_list[i] = len(df.values)\n",
    "\n",
    "# Highest Genere that has more number of apps\n",
    "max_val = max(count_list.values())\n",
    "for i in count_list.items():\n",
    "    if i[1] == max_val:\n",
    "        print(i[0])\n",
    "        "
   ]
  },
  {
   "cell_type": "code",
   "execution_count": null,
   "metadata": {},
   "outputs": [],
   "source": [
    "# In the Games Prime Genre list all the apps that has the \n",
    "# highest user_ratings\n",
    "\n",
    "# Count Number of Paid Game apps in the AppleStore.csv\n",
    "\n",
    "# Among the Paid Apps of games genere, which apps have highest \n",
    "# user rating\n",
    "\n",
    "# List out all the weather based apps\n",
    "\n",
    "# List all the news apps along with the user ratings and price.\n",
    "\n",
    "# Which free app tops the list of all free games "
   ]
  },
  {
   "cell_type": "markdown",
   "metadata": {},
   "source": [
    "-\n",
    "Refer Kaggle.com for more datasets and info\n",
    "https://www.kaggle.com\n",
    "   "
   ]
  },
  {
   "cell_type": "code",
   "execution_count": null,
   "metadata": {},
   "outputs": [],
   "source": []
  }
 ],
 "metadata": {
  "kernelspec": {
   "display_name": "Python 3",
   "language": "python",
   "name": "python3"
  },
  "language_info": {
   "codemirror_mode": {
    "name": "ipython",
    "version": 3
   },
   "file_extension": ".py",
   "mimetype": "text/x-python",
   "name": "python",
   "nbconvert_exporter": "python",
   "pygments_lexer": "ipython3",
   "version": "3.7.3"
  }
 },
 "nbformat": 4,
 "nbformat_minor": 2
}
