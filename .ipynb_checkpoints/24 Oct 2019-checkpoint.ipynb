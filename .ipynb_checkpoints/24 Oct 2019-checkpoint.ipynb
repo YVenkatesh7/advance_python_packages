{
 "cells": [
  {
   "cell_type": "markdown",
   "metadata": {},
   "source": [
    "Problem -1\n",
    "\n",
    "In a given string of characters \n",
    "- Find the Highest frequent character\n",
    "- Find the second Highest Frequent Character\n",
    "- Find the Kth Highest Frequent Character"
   ]
  },
  {
   "cell_type": "code",
   "execution_count": 1,
   "metadata": {},
   "outputs": [
    {
     "name": "stdout",
     "output_type": "stream",
     "text": [
      "andhra\n",
      "a\n"
     ]
    }
   ],
   "source": [
    "# Read the string\n",
    "n = input()\n",
    "# Convert the string into a list\n",
    "l=list(n)\n",
    "d = dict() # Creating an empty Dictionary\n",
    "for i in l:\n",
    "    count = l.count(i) # Get the count of a \n",
    "    #particular character\n",
    "    d[i] = count # Assigning the character as a key\n",
    "    # count as its value\n",
    "values_list = d.values()\n",
    "ordered_list = sorted(values_list,reverse = True)\n",
    "max_val = ordered_list[0]\n",
    "# Finding out the highest frequent character\n",
    "for i in d.items():\n",
    "    if i[1] == max_val:\n",
    "        print(i[0])"
   ]
  },
  {
   "cell_type": "code",
   "execution_count": 2,
   "metadata": {},
   "outputs": [
    {
     "data": {
      "text/plain": [
       "'C'"
      ]
     },
     "execution_count": 2,
     "metadata": {},
     "output_type": "execute_result"
    }
   ],
   "source": [
    "chr(67)"
   ]
  },
  {
   "cell_type": "code",
   "execution_count": 3,
   "metadata": {},
   "outputs": [
    {
     "data": {
      "text/plain": [
       "67"
      ]
     },
     "execution_count": 3,
     "metadata": {},
     "output_type": "execute_result"
    }
   ],
   "source": [
    "ord('C')"
   ]
  },
  {
   "cell_type": "code",
   "execution_count": 4,
   "metadata": {},
   "outputs": [
    {
     "data": {
      "text/plain": [
       "99"
      ]
     },
     "execution_count": 4,
     "metadata": {},
     "output_type": "execute_result"
    }
   ],
   "source": [
    "ord('c')"
   ]
  },
  {
   "cell_type": "code",
   "execution_count": 5,
   "metadata": {},
   "outputs": [
    {
     "name": "stdout",
     "output_type": "stream",
     "text": [
      "andhran\n",
      "Enter the Value K2\n",
      "d\n",
      "h\n",
      "r\n"
     ]
    }
   ],
   "source": [
    "# Read the string\n",
    "n = input()\n",
    "# Convert the string into a list\n",
    "l=list(n)\n",
    "d = dict() # Creating an empty Dictionary\n",
    "for i in l:\n",
    "    count = l.count(i) # Get the count of a \n",
    "    #particular character\n",
    "    d[i] = count # Assigning the character as a key\n",
    "    # count as its value\n",
    "values_list = set(d.values())\n",
    "ordered_list = sorted(values_list,reverse = True)\n",
    "ordered_list\n",
    "# Kth Largest Frequent character has to be found out\n",
    "k = int(input(\"Enter the Value K\"))\n",
    "if k>len(ordered_list):\n",
    "    print(\"We didnot find the kth largest element for \",k) \n",
    "else:\n",
    "    max_val = ordered_list[k-1]\n",
    "    # Finding out the highest frequent character\n",
    "    for i in d.items():\n",
    "        if i[1] == max_val:\n",
    "            print(i[0])\n",
    "\n"
   ]
  },
  {
   "cell_type": "markdown",
   "metadata": {},
   "source": [
    "Problem -2\n",
    "\n",
    "In a given string of characters\n",
    "\n",
    "    Find the least frequent character\n",
    "    Find the second least Frequent Character\n",
    "    Find the Kth least Frequent Character\n",
    "- Convert a list into a unique list without using set()"
   ]
  },
  {
   "cell_type": "code",
   "execution_count": null,
   "metadata": {},
   "outputs": [],
   "source": []
  }
 ],
 "metadata": {
  "kernelspec": {
   "display_name": "Python 3",
   "language": "python",
   "name": "python3"
  },
  "language_info": {
   "codemirror_mode": {
    "name": "ipython",
    "version": 3
   },
   "file_extension": ".py",
   "mimetype": "text/x-python",
   "name": "python",
   "nbconvert_exporter": "python",
   "pygments_lexer": "ipython3",
   "version": "3.7.3"
  }
 },
 "nbformat": 4,
 "nbformat_minor": 2
}
